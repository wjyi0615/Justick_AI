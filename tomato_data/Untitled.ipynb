{
 "cells": [
  {
   "cell_type": "code",
   "execution_count": 3,
   "id": "2bb21a65-ee8e-4438-9c0c-aa90c7ed8a13",
   "metadata": {},
   "outputs": [
    {
     "name": "stdout",
     "output_type": "stream",
     "text": [
      "        DATE   평균가격  전일대비_가격차이  전일대비_가격변화율(%)  공휴일여부  일요일여부\n",
      "0 2020-04-09  16905      16905       0.000000      0      0\n",
      "1 2020-04-10  15586      15586       0.000000      0      0\n",
      "2 2020-04-11  14286      -1300      -8.340819      0      0\n",
      "3 2020-04-12      0          0       0.000000      0      1\n",
      "4 2020-04-13  14771      14771       0.000000      0      0\n",
      "5 2020-04-14  14359       -412      -2.789249      0      0\n",
      "6 2020-04-15  13052      -1307      -9.102305      0      0\n",
      "7 2020-04-16  13177        125       0.957708      0      0\n",
      "8 2020-04-17  13056       -121      -0.918267      0      0\n",
      "9 2020-04-18  12462       -594      -4.549632      0      0\n"
     ]
    }
   ],
   "source": [
    "import pandas as pd\n",
    "\n",
    "# CSV 불러오기\n",
    "df = pd.read_csv(\"tomatoHigh-prices.csv\")\n",
    "\n",
    "# 숫자형 변환\n",
    "for col in ['평균가격', '전일', '전년']:\n",
    "    df[col] = df[col].replace(',', '', regex=True).astype(int)\n",
    "\n",
    "# DATE 변환\n",
    "df['DATE'] = pd.to_datetime(df['DATE'])\n",
    "\n",
    "# 빠진 날짜 채우기 (전체 날짜 생성 후 merge)\n",
    "full_dates = pd.DataFrame({'DATE': pd.date_range(start=df['DATE'].min(), end=df['DATE'].max())})\n",
    "df = pd.merge(full_dates, df, on='DATE', how='left')\n",
    "\n",
    "# 파생변수: 평균가격 == 0 이거나 NaN이면 차이, 비율도 0\n",
    "df['평균가격'] = df['평균가격'].fillna(0).astype(int)\n",
    "df['전일'] = df['전일'].fillna(0).astype(int)\n",
    "df['전일대비_가격차이'] = df.apply(\n",
    "    lambda row: 0 if row['평균가격'] == 0 else row['평균가격'] - row['전일'],\n",
    "    axis=1\n",
    ")\n",
    "df['전일대비_가격변화율(%)'] = df.apply(\n",
    "    lambda row: 0 if row['평균가격'] == 0 or row['전일'] == 0 else (row['전일대비_가격차이'] / row['전일']) * 100,\n",
    "    axis=1\n",
    ")\n",
    "\n",
    "# 공휴일 리스트 (2025 주요 공휴일)\n",
    "holiday_list = [\n",
    "    '2025-01-01', '2025-02-28', '2025-03-01', '2025-05-05', '2025-06-06',\n",
    "    '2025-08-15', '2025-09-06', '2025-09-07', '2025-09-08', '2025-10-03',\n",
    "    '2025-10-09', '2025-12-25'\n",
    "]\n",
    "holidays_kr_2025 = pd.to_datetime(holiday_list)\n",
    "\n",
    "# 공휴일, 일요일 여부\n",
    "df['공휴일여부'] = df['DATE'].isin(holidays_kr_2025).astype(int)\n",
    "df['일요일여부'] = df['DATE'].dt.weekday.apply(lambda x: 1 if x == 6 else 0)\n",
    "\n",
    "# 결과 확인\n",
    "print(df[['DATE', '평균가격', '전일대비_가격차이', '전일대비_가격변화율(%)', '공휴일여부', '일요일여부']].head(10))\n",
    "\n",
    "# 저장하려면\n",
    "df.to_csv(\"tomatoHigh-prices-filled.csv\", index=False)\n"
   ]
  },
  {
   "cell_type": "code",
   "execution_count": 4,
   "id": "b65f6baf-2f11-47da-a21f-346913b14865",
   "metadata": {
    "tags": []
   },
   "outputs": [
    {
     "name": "stdout",
     "output_type": "stream",
     "text": [
      "전일 또는 전년이 0인 행 (예시):\n",
      "         DATE   평균가격     전일       전년\n",
      "0  2020-04-09  16905      0      0.0\n",
      "1  2020-04-10  15586      0      0.0\n",
      "4  2020-04-13  14771      0  11166.0\n",
      "6  2020-04-15  13052  14359      0.0\n",
      "11 2020-04-20  12872      0  11283.0\n",
      "13 2020-04-22  13851  11757      0.0\n",
      "18 2020-04-27  12293      0   9076.0\n",
      "20 2020-04-29  11922  11299      0.0\n",
      "23 2020-05-02  10370      0      0.0\n",
      "24 2020-05-03      0      0      NaN\n",
      "\n",
      "정리된 데이터 미리보기:\n",
      "        DATE   평균가격     전일       전년  총반입량  전일대비_반입량차이\n",
      "0 2020-04-09  16905      0      0.0   171           0\n",
      "1 2020-04-10  15586      0      0.0   266          95\n",
      "2 2020-04-11  14286  15586  11024.0   194         -72\n",
      "3 2020-04-12      0  14286  11342.0     0        -194\n",
      "4 2020-04-13  14771      0  11166.0   313         313\n",
      "5 2020-04-14  14359  14771  10954.0   202        -111\n",
      "6 2020-04-15  13052  14359      0.0   188         -14\n",
      "7 2020-04-16  13177  13052  11157.0   186          -2\n",
      "8 2020-04-17  13056  13177  11330.0   244          58\n",
      "9 2020-04-18  12462  13056  11023.0   177         -67\n"
     ]
    }
   ],
   "source": [
    "import pandas as pd\n",
    "\n",
    "# 1. 파일 불러오기\n",
    "price_df = pd.read_csv(\"tomatoHigh-prices-filled.csv\")\n",
    "amount_df = pd.read_csv(\"tomato_amount.csv\")\n",
    "\n",
    "# 2. 날짜 포맷 통일\n",
    "price_df['DATE'] = pd.to_datetime(price_df['DATE'])\n",
    "amount_df['DATE'] = pd.to_datetime(amount_df['DATE'])\n",
    "\n",
    "# 3. 총반입량만 추출\n",
    "amount_df_use = amount_df[['DATE', '총반입량']].copy()\n",
    "amount_df_use['총반입량'] = amount_df_use['총반입량'].fillna(0).astype(int)\n",
    "\n",
    "# 4. 날짜 기준 병합\n",
    "df = pd.merge(price_df, amount_df_use, on='DATE', how='left')\n",
    "df['총반입량'] = df['총반입량'].fillna(0).astype(int)\n",
    "\n",
    "# 5. 전일대비 반입량 차이 및 변화율 계산\n",
    "df['전일대비_반입량차이'] = df['총반입량'].diff().fillna(0).astype(int)\n",
    "df['전일대비_반입량변화율(%)'] = df.apply(\n",
    "    lambda row: 0 if row['총반입량'] == 0 or row['총반입량'] - row['전일대비_반입량차이'] == 0\n",
    "    else (row['전일대비_반입량차이'] / (row['총반입량'] - row['전일대비_반입량차이'])) * 100,\n",
    "    axis=1\n",
    ")\n",
    "\n",
    "# 6. 전일 or 전년이 0인 행들만 확인\n",
    "zero_check = df[(df['전일'] == 0) | (df['전년'] == 0)]\n",
    "print(\"전일 또는 전년이 0인 행 (예시):\")\n",
    "print(zero_check[['DATE', '평균가격', '전일', '전년']].head(10))\n",
    "\n",
    "# 7. 평균가격·전일·전년이 모두 0인 행 제거 (필요시)\n",
    "df_cleaned = df[~((df['평균가격'] == 0) & (df['전일'] == 0) & (df['전년'] == 0))]\n",
    "\n",
    "# 8. 결과 저장 (선택)\n",
    "# df_cleaned.to_csv(\"토마토_최종_정리본.csv\", index=False)\n",
    "\n",
    "# ✅ 확인용 출력\n",
    "print(\"\\n정리된 데이터 미리보기:\")\n",
    "print(df_cleaned[['DATE', '평균가격', '전일', '전년', '총반입량', '전일대비_반입량차이']].head(10))\n"
   ]
  },
  {
   "cell_type": "code",
   "execution_count": null,
   "id": "5d0abcc5-3996-416f-a5ae-e2b881292d65",
   "metadata": {},
   "outputs": [],
   "source": []
  }
 ],
 "metadata": {
  "kernelspec": {
   "display_name": "Python 3 (ipykernel)",
   "language": "python",
   "name": "python3"
  },
  "language_info": {
   "codemirror_mode": {
    "name": "ipython",
    "version": 3
   },
   "file_extension": ".py",
   "mimetype": "text/x-python",
   "name": "python",
   "nbconvert_exporter": "python",
   "pygments_lexer": "ipython3",
   "version": "3.11.4"
  }
 },
 "nbformat": 4,
 "nbformat_minor": 5
}
