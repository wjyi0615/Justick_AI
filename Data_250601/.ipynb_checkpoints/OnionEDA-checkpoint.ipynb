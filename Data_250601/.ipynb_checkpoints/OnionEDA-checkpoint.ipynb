{
 "cells": [
  {
   "cell_type": "code",
   "execution_count": 2,
   "id": "1aed0014-af9d-4c6e-8280-999be5694d16",
   "metadata": {
    "tags": []
   },
   "outputs": [
    {
     "name": "stdout",
     "output_type": "stream",
     "text": [
      "      year  month  day  intake  avg_price  gap     rate\n",
      "5715  2016      1    4     125       1829    0     HIGH\n",
      "5714  2016      1    4      18       1998    0  Special\n",
      "5713  2016      1    5     134       1718 -111     HIGH\n",
      "5712  2016      1    5      19       1856 -142  Special\n",
      "5711  2016      1    6     158       1604 -114     HIGH\n"
     ]
    }
   ],
   "source": [
    "import os\n",
    "import pandas as pd\n",
    "\n",
    "# 파일 경로\n",
    "onion_path = 'data/OnionPrice.xlsx'\n",
    "intake_path = 'data/OnionIntake.xlsx'\n",
    "\n",
    "# 시트 불러오기\n",
    "onion_df = pd.read_excel(onion_path, sheet_name=0)\n",
    "intake_df = pd.read_excel(intake_path, sheet_name=0)\n",
    "\n",
    "# 특, 상 필터\n",
    "grade_ratio = {\n",
    "    '특': ('Special', 0.05),\n",
    "    '상': ('HIGH', 0.35),\n",
    "}\n",
    "filtered = onion_df[onion_df['등급명'].isin(grade_ratio)].copy()\n",
    "\n",
    "# 평균가격 정수형 변환\n",
    "filtered['avg_price'] = filtered['평균가격'].astype(str).str.replace(',', '').astype(int)\n",
    "\n",
    "# 0원인 데이터 제거\n",
    "filtered = filtered[filtered['avg_price'] != 0]\n",
    "\n",
    "# 레이블, 비율 컬럼 추가\n",
    "filtered['rate'] = filtered['등급명'].map(lambda x: grade_ratio[x][0])\n",
    "filtered['비율'] = filtered['등급명'].map(lambda x: grade_ratio[x][1])\n",
    "\n",
    "# 반입량 합치기\n",
    "intake_df = intake_df[['DATE', '총반입량']].copy()\n",
    "intake_df.rename(columns={'총반입량': 'total_intake'}, inplace=True)\n",
    "\n",
    "merged = pd.merge(filtered, intake_df, on='DATE', how='inner')\n",
    "\n",
    "# intake 계산\n",
    "merged['intake'] = (merged['total_intake'] * merged['비율']).round().astype(int)\n",
    "\n",
    "# 날짜 분해\n",
    "merged[['year', 'month', 'day']] = merged['DATE'].astype(str).str.split('-', expand=True).astype(int)\n",
    "\n",
    "# gap 계산 (같은 등급 기준 전날과의 가격 차이)\n",
    "merged.sort_values(['rate', 'DATE'], inplace=True)\n",
    "merged['gap'] = merged.groupby('rate')['avg_price'].diff().fillna(0).astype(int)\n",
    "\n",
    "# 최종 정리\n",
    "final_df = merged[['year', 'month', 'day', 'intake', 'avg_price', 'gap', 'rate']]\n",
    "final_df = final_df.sort_values(['year', 'month', 'day', 'rate'])\n",
    "\n",
    "# 저장\n",
    "os.makedirs('store', exist_ok=True)\n",
    "output_path = 'store/onion_separated.csv'\n",
    "final_df.to_csv(output_path, index=False)\n",
    "\n",
    "print(final_df.head())"
   ]
  },
  {
   "cell_type": "code",
   "execution_count": null,
   "id": "3638a210-2e38-49aa-b090-d5f35a66b6fa",
   "metadata": {},
   "outputs": [],
   "source": []
  }
 ],
 "metadata": {
  "kernelspec": {
   "display_name": "Python 3 (ipykernel)",
   "language": "python",
   "name": "python3"
  },
  "language_info": {
   "codemirror_mode": {
    "name": "ipython",
    "version": 3
   },
   "file_extension": ".py",
   "mimetype": "text/x-python",
   "name": "python",
   "nbconvert_exporter": "python",
   "pygments_lexer": "ipython3",
   "version": "3.11.4"
  }
 },
 "nbformat": 4,
 "nbformat_minor": 5
}
