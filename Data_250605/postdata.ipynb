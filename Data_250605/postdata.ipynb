{
 "cells": [
  {
   "cell_type": "code",
   "execution_count": 4,
   "id": "28f0def5",
   "metadata": {},
   "outputs": [
    {
     "name": "stdout",
     "output_type": "stream",
     "text": [
      "cabbage HIGH 전송 성공\n",
      "cabbage SPECIAL 전송 성공\n",
      "onion HIGH 전송 성공\n",
      "onion SPECIAL 전송 성공\n",
      "potato HIGH 전송 성공\n",
      "potato SPECIAL 전송 성공\n",
      "radish HIGH 전송 성공\n",
      "radish SPECIAL 전송 성공\n",
      "sweetPotato HIGH 전송 성공\n",
      "sweetPotato SPECIAL 전송 성공\n",
      "tomato HIGH 전송 성공\n",
      "tomato SPECIAL 전송 성공\n"
     ]
    }
   ],
   "source": [
    "import csv\n",
    "import requests\n",
    "\n",
    "# 품목 리스트와 등급 리스트\n",
    "items = [\"cabbage\", \"onion\", \"potato\", \"radish\", \"sweetPotato\", \"tomato\"]\n",
    "grades = [\"HIGH\", \"SPECIAL\"]\n",
    "\n",
    "# 각 품목별로 파일명과 API URL 패턴 지정\n",
    "csv_file_pattern = \"store/{}_separated.csv\"\n",
    "url_pattern = \"http://justick.myvnc.com:2025/justick_spring/api/{}/batch\"\n",
    "\n",
    "for item in items:\n",
    "    csv_file = csv_file_pattern.format(item)\n",
    "    url = url_pattern.format(item)\n",
    "    for grade in grades:\n",
    "        batch = []\n",
    "        try:\n",
    "            with open(csv_file, newline='', encoding='utf-8') as f:\n",
    "                reader = list(csv.DictReader(f))\n",
    "                # 해당 등급만 필터링\n",
    "                filtered_rows = [row for row in reader if row[\"rate\"] == grade]\n",
    "                # 최신 365개만 선택 (날짜 오름차순이므로 뒤에서부터)\n",
    "                selected_rows = filtered_rows[-365:]\n",
    "                for row in selected_rows:\n",
    "                    batch.append({\n",
    "                        \"year\": int(row[\"year\"]),\n",
    "                        \"month\": int(row[\"month\"]),\n",
    "                        \"day\": int(row[\"day\"]),\n",
    "                        \"intake\": int(row[\"intake\"]),\n",
    "                        \"averagePrice\": int(row[\"avg_price\"]),\n",
    "                        \"grade\": row[\"rate\"],\n",
    "                        \"gap\": int(row[\"gap\"])\n",
    "                    })\n",
    "        except FileNotFoundError:\n",
    "            print(f\"{csv_file} 파일이 없습니다.\")\n",
    "            continue\n",
    "\n",
    "        if batch:\n",
    "            response = requests.post(url, json=batch)\n",
    "            if response.status_code == 200:\n",
    "                print(f\"{item} {grade} 전송 성공\")\n",
    "            else:\n",
    "                print(f\"{item} {grade} 실패: {response.status_code} - {response.text}\")\n",
    "        else:\n",
    "            print(f\"{item} {grade} 전송할 데이터 없음\")"
   ]
  },
  {
   "cell_type": "code",
   "execution_count": null,
   "id": "e4a6f255",
   "metadata": {},
   "outputs": [
    {
     "name": "stdout",
     "output_type": "stream",
     "text": [
      "cabbage retail 전송 성공\n",
      "onion retail 전송 성공\n",
      "potato retail 전송 성공\n",
      "radish retail 전송 성공\n",
      "sweetPotato retail 전송 성공\n",
      "tomato retail 전송 성공\n"
     ]
    }
   ],
   "source": [
    "import pandas as pd\n",
    "import requests\n",
    "\n",
    "# 품목 리스트\n",
    "items = [\"cabbage\", \"onion\", \"potato\", \"radish\", \"sweetPotato\", \"tomato\"]\n",
    "\n",
    "for item in items:\n",
    "    csv_file = f'store/{item}_retail.csv'\n",
    "    url = f'http://justick.myvnc.com:2025/justick_spring/api/{item}-retail/batch'\n",
    "    try:\n",
    "        df = pd.read_csv(csv_file)\n",
    "    except FileNotFoundError:\n",
    "        print(f\"{csv_file} 파일이 없습니다.\")\n",
    "        continue\n",
    "\n",
    "    # 마지막 28개의 데이터만 전송\n",
    "    df = df.tail(28)\n",
    "    batch = []\n",
    "    for _, row in df.iterrows():\n",
    "        batch.append({\n",
    "            \"year\": int(row['year']),\n",
    "            \"month\": int(row['month']),\n",
    "            \"day\": int(row['day']),\n",
    "            \"averagePrice\": int(row['avg_price']),\n",
    "            \"gap\": int(row['gap'])\n",
    "        })\n",
    "\n",
    "    if batch:\n",
    "        response = requests.post(url, json=batch)\n",
    "        if response.status_code == 200:\n",
    "            print(f\"{item} retail 전송 성공\")\n",
    "        else:\n",
    "            print(f\"{item} retail 실패: {response.status_code} - {response.text}\")\n",
    "    else:\n",
    "        print(f\"{item} retail 전송할 데이터 없음\")"
   ]
  },
  {
   "cell_type": "code",
   "execution_count": null,
   "id": "3656867e",
   "metadata": {},
   "outputs": [
    {
     "name": "stdout",
     "output_type": "stream",
     "text": [
      "tomato HIGH 전송 성공\n",
      "tomato SPECIAL 전송 성공\n"
     ]
    }
   ],
   "source": [
    "import csv\n",
    "import requests\n",
    "\n",
    "# 품목 리스트와 등급 리스트\n",
    "items = [\"cabbage\", \"onion\", \"potato\", \"radish\", \"sweetPotato\", \"tomato\"]\n",
    "grades = [\"HIGH\", \"SPECIAL\"]\n",
    "\n",
    "# 각 품목별로 파일명과 API URL 패턴 지정\n",
    "csv_file_pattern = \"store/{}_predict.csv\"\n",
    "url_pattern = \"http://justick.myvnc.com:2025/justick_spring/api/{}-predict/batch\"\n",
    "\n",
    "for item in items:\n",
    "    csv_file = csv_file_pattern.format(item)\n",
    "    url = url_pattern.format(item)\n",
    "    for grade in grades:\n",
    "        batch = []\n",
    "        try:\n",
    "            with open(csv_file, newline='', encoding='utf-8') as f:\n",
    "                reader = list(csv.DictReader(f))\n",
    "                # 해당 등급만 필터링\n",
    "                filtered_rows = [row for row in reader if row[\"rate\"] == grade]\n",
    "                for row in filtered_rows:\n",
    "                    batch.append({\n",
    "                        \"year\": int(row[\"year\"]),\n",
    "                        \"month\": int(row[\"month\"]),\n",
    "                        \"day\": int(row[\"day\"]),\n",
    "                        \"averagePrice\": int(row[\"avg_price\"]),\n",
    "                        \"grade\": row[\"rate\"]\n",
    "                    })\n",
    "        except FileNotFoundError:\n",
    "            print(f\"{csv_file} 파일이 없습니다.\")\n",
    "            continue\n",
    "\n",
    "        if batch:\n",
    "            response = requests.post(url, json=batch)\n",
    "            if response.status_code == 200:\n",
    "                print(f\"{item} {grade} 전송 성공\")\n",
    "            else:\n",
    "                print(f\"{item} {grade} 실패: {response.status_code} - {response.text}\")\n",
    "        else:\n",
    "            print(f\"{item} {grade} 전송할 데이터 없음\")"
   ]
  }
 ],
 "metadata": {
  "kernelspec": {
   "display_name": "Python 3",
   "language": "python",
   "name": "python3"
  },
  "language_info": {
   "codemirror_mode": {
    "name": "ipython",
    "version": 3
   },
   "file_extension": ".py",
   "mimetype": "text/x-python",
   "name": "python",
   "nbconvert_exporter": "python",
   "pygments_lexer": "ipython3",
   "version": "3.12.2"
  }
 },
 "nbformat": 4,
 "nbformat_minor": 5
}
